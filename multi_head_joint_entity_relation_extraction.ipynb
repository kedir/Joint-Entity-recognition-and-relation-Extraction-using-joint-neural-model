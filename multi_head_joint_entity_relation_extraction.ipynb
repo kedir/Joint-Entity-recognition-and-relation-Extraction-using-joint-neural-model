{
  "nbformat": 4,
  "nbformat_minor": 0,
  "metadata": {
    "colab": {
      "name": "multi_head_joint_entity_relation_extraction.ipynb",
      "provenance": [],
      "collapsed_sections": [],
      "toc_visible": true
    },
    "kernelspec": {
      "name": "python3",
      "display_name": "Python 3"
    },
    "accelerator": "GPU"
  },
  "cells": [
    {
      "cell_type": "markdown",
      "metadata": {
        "id": "iL8Xv5UEwZTs"
      },
      "source": [
        "#Joint Entity recognition and relation Extraction"
      ]
    },
    {
      "cell_type": "markdown",
      "metadata": {
        "id": "2r7AbY-Jw9ZL"
      },
      "source": [
        "The goal of this project is to apply the concept of entity recognition and relation extraction to discover relational struc-tures of entity mentions from unstructured text. For this specifc task, I choose a joint neural model which performs both named entity recognition and relation extraction simultaneously, without the need of any manually extracted features or the use of any external tool. \n",
        "\n",
        "I have implemented the following paper in order to achive the goal of this project.\n",
        "\n",
        "* [Giannis Bekoulis, Johannes Deleu, Thomas Demeester, Chris Develder. Joint entity recognition and relation extraction as a multi-head selection problem. Expert Systems with Applications, Volume 114, Pages 34-45, 2018](https://arxiv.org/pdf/1804.07847.pdf)\n",
        "\n",
        "\n"
      ]
    },
    {
      "cell_type": "markdown",
      "metadata": {
        "id": "VlzkdIY_CwSC"
      },
      "source": [
        "1.**Introduction**\n",
        "\n",
        "In Natural Language Processing (NLP) an Entity Recognition and Relation Extraction is one of the common problem. The entity is referred to as the part of the text that is interested in. In NLP, NER is a method of extracting the relevant information from a large corpus and classifying those entities into predefined categories such as location, organization, name and so on. \n",
        "\n",
        "The goal of the entity recognition and relation extraction is to discover relational struc-tures of entity mentions from unstructured texts. It is a central problem in information extraction since it is critical for tasks such as knowledge base population and questionanswering."
      ]
    },
    {
      "cell_type": "markdown",
      "metadata": {
        "id": "xYGXuYtm6K6O"
      },
      "source": [
        "#Change Runtime to GPU\n",
        "\n",
        "On the main menu, click on Runtime and select Change  runtime type. Set \"GPU\" as the hardware accelerator.\n",
        "\n"
      ]
    },
    {
      "cell_type": "markdown",
      "metadata": {
        "id": "EuaasybHUITl"
      },
      "source": [
        "#Clone Repository:\n",
        "\n",
        "First Step is to clone my Github Repository. Below code is command to clone repository:"
      ]
    },
    {
      "cell_type": "code",
      "metadata": {
        "id": "z9kUymctwTel"
      },
      "source": [
        "!git clone https://github.com/kedir/Joint-Entity-recognition-and-relation-Extraction-using-joint-neural-model.git"
      ],
      "execution_count": null,
      "outputs": []
    },
    {
      "cell_type": "markdown",
      "metadata": {
        "id": "bhfZDQTsWGJX"
      },
      "source": [
        "#Mounting Google Drive locally\n",
        "\n",
        "mount your Google Drive on your runtime using an authorization code. Go to the URL, copy and Enter your authorization code:"
      ]
    },
    {
      "cell_type": "code",
      "metadata": {
        "id": "T-gvqFtZFmKp",
        "colab": {
          "base_uri": "https://localhost:8080/"
        },
        "outputId": "5d58f612-935c-4490-8239-bbaa5f5a65e1"
      },
      "source": [
        "from google.colab import drive\n",
        "drive.mount('/content/drive')"
      ],
      "execution_count": null,
      "outputs": [
        {
          "output_type": "stream",
          "text": [
            "Mounted at /content/drive\n"
          ],
          "name": "stdout"
        }
      ]
    },
    {
      "cell_type": "code",
      "metadata": {
        "id": "ArNmR7S4Fnc7"
      },
      "source": [
        "mv /content/multihead_joint_entity_relation_extraction /content/drive/My\\ Drive"
      ],
      "execution_count": null,
      "outputs": []
    },
    {
      "cell_type": "markdown",
      "metadata": {
        "id": "JEOwuWUPYJM0"
      },
      "source": [
        "# Installing packages\n",
        "contains all the pacakages that required for trainig and inference. By using below command install all the pacakages.\n"
      ]
    },
    {
      "cell_type": "code",
      "metadata": {
        "id": "z1m6hUqBF8W_",
        "colab": {
          "base_uri": "https://localhost:8080/",
          "height": 1000
        },
        "outputId": "ba235774-8204-48a4-f127-0f407ba80fda"
      },
      "source": [
        "!pip install Numpy==1.17.1 Gensim==3.4.0 Tensorflow==1.13.1 PrettyTable==0.7.2 pandas"
      ],
      "execution_count": null,
      "outputs": [
        {
          "output_type": "stream",
          "text": [
            "Collecting Numpy==1.17.1\n",
            "\u001b[?25l  Downloading https://files.pythonhosted.org/packages/25/eb/4ecf6b13897391cb07a4231e9d9c671b55dfbbf6f4a514a1a0c594f2d8d9/numpy-1.17.1-cp37-cp37m-manylinux1_x86_64.whl (20.3MB)\n",
            "\u001b[K     |████████████████████████████████| 20.3MB 35.5MB/s \n",
            "\u001b[?25hCollecting Gensim==3.4.0\n",
            "\u001b[?25l  Downloading https://files.pythonhosted.org/packages/04/a6/82ee7b14c204b82ec00e91fc6b67331cc7b28460ad72b2214384abd0e0a3/gensim-3.4.0.tar.gz (22.2MB)\n",
            "\u001b[K     |████████████████████████████████| 22.2MB 10.8MB/s \n",
            "\u001b[?25hCollecting Tensorflow==1.13.1\n",
            "\u001b[?25l  Downloading https://files.pythonhosted.org/packages/d4/29/6b4f1e02417c3a1ccc85380f093556ffd0b35dc354078074c5195c8447f2/tensorflow-1.13.1-cp37-cp37m-manylinux1_x86_64.whl (92.6MB)\n",
            "\u001b[K     |████████████████████████████████| 92.6MB 33kB/s \n",
            "\u001b[?25hCollecting PrettyTable==0.7.2\n",
            "  Downloading https://files.pythonhosted.org/packages/ef/30/4b0746848746ed5941f052479e7c23d2b56d174b82f4fd34a25e389831f5/prettytable-0.7.2.tar.bz2\n",
            "Requirement already satisfied: pandas in /usr/local/lib/python3.7/dist-packages (1.1.5)\n",
            "Requirement already satisfied: scipy>=0.18.1 in /usr/local/lib/python3.7/dist-packages (from Gensim==3.4.0) (1.4.1)\n",
            "Requirement already satisfied: six>=1.5.0 in /usr/local/lib/python3.7/dist-packages (from Gensim==3.4.0) (1.15.0)\n",
            "Requirement already satisfied: smart_open>=1.2.1 in /usr/local/lib/python3.7/dist-packages (from Gensim==3.4.0) (4.2.0)\n",
            "Requirement already satisfied: protobuf>=3.6.1 in /usr/local/lib/python3.7/dist-packages (from Tensorflow==1.13.1) (3.12.4)\n",
            "Requirement already satisfied: grpcio>=1.8.6 in /usr/local/lib/python3.7/dist-packages (from Tensorflow==1.13.1) (1.32.0)\n",
            "Collecting tensorboard<1.14.0,>=1.13.0\n",
            "\u001b[?25l  Downloading https://files.pythonhosted.org/packages/0f/39/bdd75b08a6fba41f098b6cb091b9e8c7a80e1b4d679a581a0ccd17b10373/tensorboard-1.13.1-py3-none-any.whl (3.2MB)\n",
            "\u001b[K     |████████████████████████████████| 3.2MB 26.3MB/s \n",
            "\u001b[?25hRequirement already satisfied: keras-preprocessing>=1.0.5 in /usr/local/lib/python3.7/dist-packages (from Tensorflow==1.13.1) (1.1.2)\n",
            "Requirement already satisfied: absl-py>=0.1.6 in /usr/local/lib/python3.7/dist-packages (from Tensorflow==1.13.1) (0.10.0)\n",
            "Collecting tensorflow-estimator<1.14.0rc0,>=1.13.0\n",
            "\u001b[?25l  Downloading https://files.pythonhosted.org/packages/bb/48/13f49fc3fa0fdf916aa1419013bb8f2ad09674c275b4046d5ee669a46873/tensorflow_estimator-1.13.0-py2.py3-none-any.whl (367kB)\n",
            "\u001b[K     |████████████████████████████████| 368kB 31.9MB/s \n",
            "\u001b[?25hRequirement already satisfied: gast>=0.2.0 in /usr/local/lib/python3.7/dist-packages (from Tensorflow==1.13.1) (0.3.3)\n",
            "Requirement already satisfied: astor>=0.6.0 in /usr/local/lib/python3.7/dist-packages (from Tensorflow==1.13.1) (0.8.1)\n",
            "Requirement already satisfied: termcolor>=1.1.0 in /usr/local/lib/python3.7/dist-packages (from Tensorflow==1.13.1) (1.1.0)\n",
            "Requirement already satisfied: wheel>=0.26 in /usr/local/lib/python3.7/dist-packages (from Tensorflow==1.13.1) (0.36.2)\n",
            "Collecting keras-applications>=1.0.6\n",
            "\u001b[?25l  Downloading https://files.pythonhosted.org/packages/71/e3/19762fdfc62877ae9102edf6342d71b28fbfd9dea3d2f96a882ce099b03f/Keras_Applications-1.0.8-py3-none-any.whl (50kB)\n",
            "\u001b[K     |████████████████████████████████| 51kB 5.7MB/s \n",
            "\u001b[?25hRequirement already satisfied: python-dateutil>=2.7.3 in /usr/local/lib/python3.7/dist-packages (from pandas) (2.8.1)\n",
            "Requirement already satisfied: pytz>=2017.2 in /usr/local/lib/python3.7/dist-packages (from pandas) (2018.9)\n",
            "Requirement already satisfied: setuptools in /usr/local/lib/python3.7/dist-packages (from protobuf>=3.6.1->Tensorflow==1.13.1) (54.0.0)\n",
            "Requirement already satisfied: werkzeug>=0.11.15 in /usr/local/lib/python3.7/dist-packages (from tensorboard<1.14.0,>=1.13.0->Tensorflow==1.13.1) (1.0.1)\n",
            "Requirement already satisfied: markdown>=2.6.8 in /usr/local/lib/python3.7/dist-packages (from tensorboard<1.14.0,>=1.13.0->Tensorflow==1.13.1) (3.3.4)\n",
            "Collecting mock>=2.0.0\n",
            "  Downloading https://files.pythonhosted.org/packages/5c/03/b7e605db4a57c0f6fba744b11ef3ddf4ddebcada35022927a2b5fc623fdf/mock-4.0.3-py3-none-any.whl\n",
            "Requirement already satisfied: h5py in /usr/local/lib/python3.7/dist-packages (from keras-applications>=1.0.6->Tensorflow==1.13.1) (2.10.0)\n",
            "Requirement already satisfied: importlib-metadata; python_version < \"3.8\" in /usr/local/lib/python3.7/dist-packages (from markdown>=2.6.8->tensorboard<1.14.0,>=1.13.0->Tensorflow==1.13.1) (3.7.0)\n",
            "Requirement already satisfied: zipp>=0.5 in /usr/local/lib/python3.7/dist-packages (from importlib-metadata; python_version < \"3.8\"->markdown>=2.6.8->tensorboard<1.14.0,>=1.13.0->Tensorflow==1.13.1) (3.4.1)\n",
            "Requirement already satisfied: typing-extensions>=3.6.4; python_version < \"3.8\" in /usr/local/lib/python3.7/dist-packages (from importlib-metadata; python_version < \"3.8\"->markdown>=2.6.8->tensorboard<1.14.0,>=1.13.0->Tensorflow==1.13.1) (3.7.4.3)\n",
            "Building wheels for collected packages: Gensim, PrettyTable\n",
            "  Building wheel for Gensim (setup.py) ... \u001b[?25l\u001b[?25hdone\n",
            "  Created wheel for Gensim: filename=gensim-3.4.0-cp37-cp37m-linux_x86_64.whl size=23316506 sha256=1be8d7f987f5c8bb15d2273c923513ae52d2c36bbbd9954e54571909aefceafd\n",
            "  Stored in directory: /root/.cache/pip/wheels/2a/5f/2d/04fe5cffea90fbba14c8eab40f519096c8558cceaaa6777048\n",
            "  Building wheel for PrettyTable (setup.py) ... \u001b[?25l\u001b[?25hdone\n",
            "  Created wheel for PrettyTable: filename=prettytable-0.7.2-cp37-none-any.whl size=13700 sha256=3909b8f7e2e2a1f063b24cde3e3c8500787da5dda8fa3903edc231a58e681539\n",
            "  Stored in directory: /root/.cache/pip/wheels/80/34/1c/3967380d9676d162cb59513bd9dc862d0584e045a162095606\n",
            "Successfully built Gensim PrettyTable\n",
            "\u001b[31mERROR: datascience 0.10.6 has requirement folium==0.2.1, but you'll have folium 0.8.3 which is incompatible.\u001b[0m\n",
            "\u001b[31mERROR: albumentations 0.1.12 has requirement imgaug<0.2.7,>=0.2.5, but you'll have imgaug 0.2.9 which is incompatible.\u001b[0m\n",
            "Installing collected packages: Numpy, Gensim, tensorboard, mock, tensorflow-estimator, keras-applications, Tensorflow, PrettyTable\n",
            "  Found existing installation: numpy 1.19.5\n",
            "    Uninstalling numpy-1.19.5:\n",
            "      Successfully uninstalled numpy-1.19.5\n",
            "  Found existing installation: gensim 3.6.0\n",
            "    Uninstalling gensim-3.6.0:\n",
            "      Successfully uninstalled gensim-3.6.0\n",
            "  Found existing installation: tensorboard 2.4.1\n",
            "    Uninstalling tensorboard-2.4.1:\n",
            "      Successfully uninstalled tensorboard-2.4.1\n",
            "  Found existing installation: tensorflow-estimator 2.4.0\n",
            "    Uninstalling tensorflow-estimator-2.4.0:\n",
            "      Successfully uninstalled tensorflow-estimator-2.4.0\n",
            "  Found existing installation: tensorflow 2.4.1\n",
            "    Uninstalling tensorflow-2.4.1:\n",
            "      Successfully uninstalled tensorflow-2.4.1\n",
            "  Found existing installation: prettytable 2.1.0\n",
            "    Uninstalling prettytable-2.1.0:\n",
            "      Successfully uninstalled prettytable-2.1.0\n",
            "Successfully installed Gensim-3.4.0 Numpy-1.17.1 PrettyTable-0.7.2 Tensorflow-1.13.1 keras-applications-1.0.8 mock-4.0.3 tensorboard-1.13.1 tensorflow-estimator-1.13.0\n"
          ],
          "name": "stdout"
        },
        {
          "output_type": "display_data",
          "data": {
            "application/vnd.colab-display-data+json": {
              "pip_warning": {
                "packages": [
                  "numpy"
                ]
              }
            }
          },
          "metadata": {
            "tags": []
          }
        }
      ]
    },
    {
      "cell_type": "code",
      "metadata": {
        "colab": {
          "base_uri": "https://localhost:8080/",
          "height": 35
        },
        "id": "PlpjwbOXiNMD",
        "outputId": "6dae536e-c5e5-40ba-f59d-b65a6fcaa63b"
      },
      "source": [
        " #Check the version \n",
        " import pandas\n",
        "pandas.__version__"
      ],
      "execution_count": null,
      "outputs": [
        {
          "output_type": "execute_result",
          "data": {
            "application/vnd.google.colaboratory.intrinsic+json": {
              "type": "string"
            },
            "text/plain": [
              "'1.1.5'"
            ]
          },
          "metadata": {
            "tags": []
          },
          "execution_count": 6
        }
      ]
    },
    {
      "cell_type": "markdown",
      "metadata": {
        "id": "0Os7DR5HMNB_"
      },
      "source": [
        "#2. **Understanding the data:**\n",
        "I have used the dataset from **[CoNLL04](https://cogcomp.seas.upenn.edu/Data/ER/):** one of the most basic dataset, concentrating on four types of named entities related to (Persons, Location, Organization, and others) and and five relation types (Kill, Live in, Located in, OrgBased in and Workfor). CONLL 2004 follow BIO schema which contain four columns separated by a single space.BIO (Beginning, Inside, Outside) schema is a common tagging format for tagging sentence tokens for NER. Here B-prefix indicates that the tag is at the beginning of every chunk. Same I-prefix for Inside of Chunk and O-prefix for no entity inside chunk. \n",
        "\n",
        "The following example indicates the accepted dataset format:\n",
        "\n",
        "![conll04data_set_format.png](data:image/png;base64,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)\n"
      ]
    },
    {
      "cell_type": "code",
      "metadata": {
        "id": "tKSTLwOFZoV2"
      },
      "source": [
        "# reading the training, develpoment and test dataset \n",
        "import pandas as pd\n",
        "import numpy as np\n",
        "import csv\n",
        "head_id_col_vector = ['token_id', 'token', \"BIO\", \"relation\", 'head']\n",
        "train = pd.read_csv(\"/content/drive/MyDrive/multihead_joint_entity_relation_extraction_model/data/CoNLL04/train.txt\", names=head_id_col_vector, encoding=\"utf-8\",engine='python', sep=\"\\t\", quoting=csv.QUOTE_NONE)\n",
        "dev = pd.read_csv(\"/content/drive/MyDrive/multihead_joint_entity_relation_extraction_model/data/CoNLL04/dev.txt\", names=head_id_col_vector, encoding=\"utf-8\",engine='python', sep=\"\\t\", quoting=csv.QUOTE_NONE)\n",
        "test = pd.read_csv(\"/content/drive/MyDrive/multihead_joint_entity_relation_extraction_model/data/CoNLL04/test.txt\", names=head_id_col_vector, encoding=\"utf-8\",engine='python', sep=\"\\t\", quoting=csv.QUOTE_NONE)\n"
      ],
      "execution_count": null,
      "outputs": []
    },
    {
      "cell_type": "code",
      "metadata": {
        "id": "-icYgbG3Kczs"
      },
      "source": [
        "data = pd.concat([train, dev, test], ignore_index=True)"
      ],
      "execution_count": null,
      "outputs": []
    },
    {
      "cell_type": "code",
      "metadata": {
        "colab": {
          "base_uri": "https://localhost:8080/",
          "height": 363
        },
        "id": "Ps9DKOD1eVJT",
        "outputId": "28740559-7f1d-45d3-b045-306cc72a6eab"
      },
      "source": [
        "data.head(10)"
      ],
      "execution_count": null,
      "outputs": [
        {
          "output_type": "execute_result",
          "data": {
            "text/html": [
              "<div>\n",
              "<style scoped>\n",
              "    .dataframe tbody tr th:only-of-type {\n",
              "        vertical-align: middle;\n",
              "    }\n",
              "\n",
              "    .dataframe tbody tr th {\n",
              "        vertical-align: top;\n",
              "    }\n",
              "\n",
              "    .dataframe thead th {\n",
              "        text-align: right;\n",
              "    }\n",
              "</style>\n",
              "<table border=\"1\" class=\"dataframe\">\n",
              "  <thead>\n",
              "    <tr style=\"text-align: right;\">\n",
              "      <th></th>\n",
              "      <th>token_id</th>\n",
              "      <th>token</th>\n",
              "      <th>BIO</th>\n",
              "      <th>relation</th>\n",
              "      <th>head</th>\n",
              "    </tr>\n",
              "  </thead>\n",
              "  <tbody>\n",
              "    <tr>\n",
              "      <th>0</th>\n",
              "      <td>#doc 1024</td>\n",
              "      <td>None</td>\n",
              "      <td>None</td>\n",
              "      <td>None</td>\n",
              "      <td>None</td>\n",
              "    </tr>\n",
              "    <tr>\n",
              "      <th>1</th>\n",
              "      <td>0</td>\n",
              "      <td>Very</td>\n",
              "      <td>O</td>\n",
              "      <td>['N']</td>\n",
              "      <td>[0]</td>\n",
              "    </tr>\n",
              "    <tr>\n",
              "      <th>2</th>\n",
              "      <td>1</td>\n",
              "      <td>strong</td>\n",
              "      <td>O</td>\n",
              "      <td>['N']</td>\n",
              "      <td>[1]</td>\n",
              "    </tr>\n",
              "    <tr>\n",
              "      <th>3</th>\n",
              "      <td>2</td>\n",
              "      <td>south</td>\n",
              "      <td>O</td>\n",
              "      <td>['N']</td>\n",
              "      <td>[2]</td>\n",
              "    </tr>\n",
              "    <tr>\n",
              "      <th>4</th>\n",
              "      <td>3</td>\n",
              "      <td>winds</td>\n",
              "      <td>O</td>\n",
              "      <td>['N']</td>\n",
              "      <td>[3]</td>\n",
              "    </tr>\n",
              "    <tr>\n",
              "      <th>5</th>\n",
              "      <td>4</td>\n",
              "      <td>accompanied</td>\n",
              "      <td>O</td>\n",
              "      <td>['N']</td>\n",
              "      <td>[4]</td>\n",
              "    </tr>\n",
              "    <tr>\n",
              "      <th>6</th>\n",
              "      <td>5</td>\n",
              "      <td>the</td>\n",
              "      <td>O</td>\n",
              "      <td>['N']</td>\n",
              "      <td>[5]</td>\n",
              "    </tr>\n",
              "    <tr>\n",
              "      <th>7</th>\n",
              "      <td>6</td>\n",
              "      <td>storm</td>\n",
              "      <td>O</td>\n",
              "      <td>['N']</td>\n",
              "      <td>[6]</td>\n",
              "    </tr>\n",
              "    <tr>\n",
              "      <th>8</th>\n",
              "      <td>7</td>\n",
              "      <td>system</td>\n",
              "      <td>O</td>\n",
              "      <td>['N']</td>\n",
              "      <td>[7]</td>\n",
              "    </tr>\n",
              "    <tr>\n",
              "      <th>9</th>\n",
              "      <td>8</td>\n",
              "      <td>,</td>\n",
              "      <td>O</td>\n",
              "      <td>['N']</td>\n",
              "      <td>[8]</td>\n",
              "    </tr>\n",
              "  </tbody>\n",
              "</table>\n",
              "</div>"
            ],
            "text/plain": [
              "    token_id        token   BIO relation  head\n",
              "0  #doc 1024         None  None     None  None\n",
              "1          0         Very     O    ['N']   [0]\n",
              "2          1       strong     O    ['N']   [1]\n",
              "3          2        south     O    ['N']   [2]\n",
              "4          3        winds     O    ['N']   [3]\n",
              "5          4  accompanied     O    ['N']   [4]\n",
              "6          5          the     O    ['N']   [5]\n",
              "7          6        storm     O    ['N']   [6]\n",
              "8          7       system     O    ['N']   [7]\n",
              "9          8            ,     O    ['N']   [8]"
            ]
          },
          "metadata": {
            "tags": []
          },
          "execution_count": 5
        }
      ]
    },
    {
      "cell_type": "code",
      "metadata": {
        "colab": {
          "base_uri": "https://localhost:8080/",
          "height": 175
        },
        "id": "9do8P0n_e5Ib",
        "outputId": "ab8b6aa0-c674-4687-fe11-32701d3ce2d1"
      },
      "source": [
        "train.describe()"
      ],
      "execution_count": null,
      "outputs": [
        {
          "output_type": "execute_result",
          "data": {
            "text/html": [
              "<div>\n",
              "<style scoped>\n",
              "    .dataframe tbody tr th:only-of-type {\n",
              "        vertical-align: middle;\n",
              "    }\n",
              "\n",
              "    .dataframe tbody tr th {\n",
              "        vertical-align: top;\n",
              "    }\n",
              "\n",
              "    .dataframe thead th {\n",
              "        text-align: right;\n",
              "    }\n",
              "</style>\n",
              "<table border=\"1\" class=\"dataframe\">\n",
              "  <thead>\n",
              "    <tr style=\"text-align: right;\">\n",
              "      <th></th>\n",
              "      <th>token_id</th>\n",
              "      <th>token</th>\n",
              "      <th>BIO</th>\n",
              "      <th>relation</th>\n",
              "      <th>head</th>\n",
              "    </tr>\n",
              "  </thead>\n",
              "  <tbody>\n",
              "    <tr>\n",
              "      <th>count</th>\n",
              "      <td>27714</td>\n",
              "      <td>26804</td>\n",
              "      <td>26804</td>\n",
              "      <td>26804</td>\n",
              "      <td>26804</td>\n",
              "    </tr>\n",
              "    <tr>\n",
              "      <th>unique</th>\n",
              "      <td>1023</td>\n",
              "      <td>6388</td>\n",
              "      <td>9</td>\n",
              "      <td>23</td>\n",
              "      <td>219</td>\n",
              "    </tr>\n",
              "    <tr>\n",
              "      <th>top</th>\n",
              "      <td>0</td>\n",
              "      <td>,</td>\n",
              "      <td>O</td>\n",
              "      <td>['N']</td>\n",
              "      <td>[0]</td>\n",
              "    </tr>\n",
              "    <tr>\n",
              "      <th>freq</th>\n",
              "      <td>910</td>\n",
              "      <td>1822</td>\n",
              "      <td>20503</td>\n",
              "      <td>25686</td>\n",
              "      <td>904</td>\n",
              "    </tr>\n",
              "  </tbody>\n",
              "</table>\n",
              "</div>"
            ],
            "text/plain": [
              "       token_id  token    BIO relation   head\n",
              "count     27714  26804  26804    26804  26804\n",
              "unique     1023   6388      9       23    219\n",
              "top           0      ,      O    ['N']    [0]\n",
              "freq        910   1822  20503    25686    904"
            ]
          },
          "metadata": {
            "tags": []
          },
          "execution_count": 6
        }
      ]
    },
    {
      "cell_type": "code",
      "metadata": {
        "colab": {
          "base_uri": "https://localhost:8080/",
          "height": 175
        },
        "id": "KL2UUsZ8LF6C",
        "outputId": "153eb97a-793d-45d8-c98a-47b32e4df5bc"
      },
      "source": [
        "dev.describe()"
      ],
      "execution_count": null,
      "outputs": [
        {
          "output_type": "execute_result",
          "data": {
            "text/html": [
              "<div>\n",
              "<style scoped>\n",
              "    .dataframe tbody tr th:only-of-type {\n",
              "        vertical-align: middle;\n",
              "    }\n",
              "\n",
              "    .dataframe tbody tr th {\n",
              "        vertical-align: top;\n",
              "    }\n",
              "\n",
              "    .dataframe thead th {\n",
              "        text-align: right;\n",
              "    }\n",
              "</style>\n",
              "<table border=\"1\" class=\"dataframe\">\n",
              "  <thead>\n",
              "    <tr style=\"text-align: right;\">\n",
              "      <th></th>\n",
              "      <th>token_id</th>\n",
              "      <th>token</th>\n",
              "      <th>BIO</th>\n",
              "      <th>relation</th>\n",
              "      <th>head</th>\n",
              "    </tr>\n",
              "  </thead>\n",
              "  <tbody>\n",
              "    <tr>\n",
              "      <th>count</th>\n",
              "      <td>7218</td>\n",
              "      <td>6975</td>\n",
              "      <td>6975</td>\n",
              "      <td>6975</td>\n",
              "      <td>6975</td>\n",
              "    </tr>\n",
              "    <tr>\n",
              "      <th>unique</th>\n",
              "      <td>357</td>\n",
              "      <td>2743</td>\n",
              "      <td>9</td>\n",
              "      <td>13</td>\n",
              "      <td>150</td>\n",
              "    </tr>\n",
              "    <tr>\n",
              "      <th>top</th>\n",
              "      <td>1</td>\n",
              "      <td>,</td>\n",
              "      <td>O</td>\n",
              "      <td>['N']</td>\n",
              "      <td>[0]</td>\n",
              "    </tr>\n",
              "    <tr>\n",
              "      <th>freq</th>\n",
              "      <td>243</td>\n",
              "      <td>444</td>\n",
              "      <td>5355</td>\n",
              "      <td>6666</td>\n",
              "      <td>248</td>\n",
              "    </tr>\n",
              "  </tbody>\n",
              "</table>\n",
              "</div>"
            ],
            "text/plain": [
              "       token_id token   BIO relation  head\n",
              "count      7218  6975  6975     6975  6975\n",
              "unique      357  2743     9       13   150\n",
              "top           1     ,     O    ['N']   [0]\n",
              "freq        243   444  5355     6666   248"
            ]
          },
          "metadata": {
            "tags": []
          },
          "execution_count": 7
        }
      ]
    },
    {
      "cell_type": "code",
      "metadata": {
        "colab": {
          "base_uri": "https://localhost:8080/",
          "height": 175
        },
        "id": "FFXEsIUtLJ9o",
        "outputId": "9069882c-11c3-4b66-bef6-fff2e4eebed8"
      },
      "source": [
        "test.describe()"
      ],
      "execution_count": null,
      "outputs": [
        {
          "output_type": "execute_result",
          "data": {
            "text/html": [
              "<div>\n",
              "<style scoped>\n",
              "    .dataframe tbody tr th:only-of-type {\n",
              "        vertical-align: middle;\n",
              "    }\n",
              "\n",
              "    .dataframe tbody tr th {\n",
              "        vertical-align: top;\n",
              "    }\n",
              "\n",
              "    .dataframe thead th {\n",
              "        text-align: right;\n",
              "    }\n",
              "</style>\n",
              "<table border=\"1\" class=\"dataframe\">\n",
              "  <thead>\n",
              "    <tr style=\"text-align: right;\">\n",
              "      <th></th>\n",
              "      <th>token_id</th>\n",
              "      <th>token</th>\n",
              "      <th>BIO</th>\n",
              "      <th>relation</th>\n",
              "      <th>head</th>\n",
              "    </tr>\n",
              "  </thead>\n",
              "  <tbody>\n",
              "    <tr>\n",
              "      <th>count</th>\n",
              "      <td>8696</td>\n",
              "      <td>8408</td>\n",
              "      <td>8408</td>\n",
              "      <td>8408</td>\n",
              "      <td>8408</td>\n",
              "    </tr>\n",
              "    <tr>\n",
              "      <th>unique</th>\n",
              "      <td>407</td>\n",
              "      <td>2989</td>\n",
              "      <td>9</td>\n",
              "      <td>15</td>\n",
              "      <td>156</td>\n",
              "    </tr>\n",
              "    <tr>\n",
              "      <th>top</th>\n",
              "      <td>1</td>\n",
              "      <td>,</td>\n",
              "      <td>O</td>\n",
              "      <td>['N']</td>\n",
              "      <td>[1]</td>\n",
              "    </tr>\n",
              "    <tr>\n",
              "      <th>freq</th>\n",
              "      <td>288</td>\n",
              "      <td>541</td>\n",
              "      <td>6384</td>\n",
              "      <td>8040</td>\n",
              "      <td>288</td>\n",
              "    </tr>\n",
              "  </tbody>\n",
              "</table>\n",
              "</div>"
            ],
            "text/plain": [
              "       token_id token   BIO relation  head\n",
              "count      8696  8408  8408     8408  8408\n",
              "unique      407  2989     9       15   156\n",
              "top           1     ,     O    ['N']   [1]\n",
              "freq        288   541  6384     8040   288"
            ]
          },
          "metadata": {
            "tags": []
          },
          "execution_count": 8
        }
      ]
    },
    {
      "cell_type": "code",
      "metadata": {
        "colab": {
          "base_uri": "https://localhost:8080/",
          "height": 175
        },
        "id": "oe11wve6bDKV",
        "outputId": "c322e70b-d455-4132-86cf-293b0a2437bd"
      },
      "source": [
        "data.describe()"
      ],
      "execution_count": null,
      "outputs": [
        {
          "output_type": "execute_result",
          "data": {
            "text/html": [
              "<div>\n",
              "<style scoped>\n",
              "    .dataframe tbody tr th:only-of-type {\n",
              "        vertical-align: middle;\n",
              "    }\n",
              "\n",
              "    .dataframe tbody tr th {\n",
              "        vertical-align: top;\n",
              "    }\n",
              "\n",
              "    .dataframe thead th {\n",
              "        text-align: right;\n",
              "    }\n",
              "</style>\n",
              "<table border=\"1\" class=\"dataframe\">\n",
              "  <thead>\n",
              "    <tr style=\"text-align: right;\">\n",
              "      <th></th>\n",
              "      <th>token_id</th>\n",
              "      <th>token</th>\n",
              "      <th>BIO</th>\n",
              "      <th>relation</th>\n",
              "      <th>head</th>\n",
              "    </tr>\n",
              "  </thead>\n",
              "  <tbody>\n",
              "    <tr>\n",
              "      <th>count</th>\n",
              "      <td>43628</td>\n",
              "      <td>42187</td>\n",
              "      <td>42187</td>\n",
              "      <td>42187</td>\n",
              "      <td>42187</td>\n",
              "    </tr>\n",
              "    <tr>\n",
              "      <th>unique</th>\n",
              "      <td>1560</td>\n",
              "      <td>8596</td>\n",
              "      <td>9</td>\n",
              "      <td>25</td>\n",
              "      <td>286</td>\n",
              "    </tr>\n",
              "    <tr>\n",
              "      <th>top</th>\n",
              "      <td>1</td>\n",
              "      <td>,</td>\n",
              "      <td>O</td>\n",
              "      <td>['N']</td>\n",
              "      <td>[0]</td>\n",
              "    </tr>\n",
              "    <tr>\n",
              "      <th>freq</th>\n",
              "      <td>1441</td>\n",
              "      <td>2807</td>\n",
              "      <td>32242</td>\n",
              "      <td>40392</td>\n",
              "      <td>1439</td>\n",
              "    </tr>\n",
              "  </tbody>\n",
              "</table>\n",
              "</div>"
            ],
            "text/plain": [
              "       token_id  token    BIO relation   head\n",
              "count     43628  42187  42187    42187  42187\n",
              "unique     1560   8596      9       25    286\n",
              "top           1      ,      O    ['N']    [0]\n",
              "freq       1441   2807  32242    40392   1439"
            ]
          },
          "metadata": {
            "tags": []
          },
          "execution_count": 9
        }
      ]
    },
    {
      "cell_type": "code",
      "metadata": {
        "colab": {
          "base_uri": "https://localhost:8080/",
          "height": 324
        },
        "id": "egEmslmELEg0",
        "outputId": "bbff697f-6b08-4d09-ccd3-169f6ea00a38"
      },
      "source": [
        "import matplotlib.pyplot as plt\n",
        "\n",
        "(data['BIO'].value_counts(normalize=True)*100).plot.bar()\n",
        "plt.xlabel(\"unique BIO Tags\")\n",
        "plt.title('Percentage of unique tags in dataset')\n",
        "plt.show()"
      ],
      "execution_count": null,
      "outputs": [
        {
          "output_type": "display_data",
          "data": {
            "image/png": "[encoded data removed]",
            "text/plain": [
              "<Figure size 432x288 with 1 Axes>"
            ]
          },
          "metadata": {
            "tags": [],
            "needs_background": "light"
          }
        }
      ]
    },
    {
      "cell_type": "markdown",
      "metadata": {
        "id": "EnBQhJGaCI3A"
      },
      "source": [
        "\n",
        "Observations :\n",
        "\n",
        "* There are total 1441( 910 training instances, 243 for validation and 288 for testing) sentences in the dataset \n",
        "\n",
        "* Number unique words in the dataset are 8596.\n",
        "    \n",
        "* Total 9 lables (BIO Tags).\n",
        "\n",
        "\n",
        "\n"
      ]
    },
    {
      "cell_type": "markdown",
      "metadata": {
        "id": "xYooA4sa6JWH"
      },
      "source": [
        "\n",
        "#3. Train, Evaluate and test the model bold text\n",
        "\n",
        "The model use the following python file: \n",
        "\n",
        "*   train_es.py Train the model on the train set and evaluate on the evaluation\n",
        "and test sets until maximum epochs limit or (2) early stopping break'\n",
        "\n",
        "*   eval.py Set of classes and methods for computing and printing the results using the strict, boundaries and relaxed evaluation methods. For more info about how to use them see tf_utils.py\n",
        "\n",
        "\n",
        "\n",
        "\n",
        "\n"
      ]
    },
    {
      "cell_type": "code",
      "metadata": {
        "id": "RjTfXnbxGLwF"
      },
      "source": [
        "!cd /content/drive/My\\ Drive/multihead_joint_entity_relation_extraction_model && chmod +x run.sh"
      ],
      "execution_count": null,
      "outputs": []
    },
    {
      "cell_type": "code",
      "metadata": {
        "id": "RM7IQE1PIofk"
      },
      "source": [
        "!cd /content/drive/My\\ Drive/multihead_joint_entity_relation_extraction_model && ./run.sh"
      ],
      "execution_count": null,
      "outputs": []
    },
    {
      "cell_type": "markdown",
      "metadata": {
        "id": "ORa0YVXl1wUh"
      },
      "source": [
        "Evaluation Result:\n",
        "![Tran and dev result.png](data:image/png;base64,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)"
      ]
    },
    {
      "cell_type": "markdown",
      "metadata": {
        "id": "2HgzfXiX9G0z"
      },
      "source": [
        "# Prepare the test data to CONLL dataset format \n",
        "I just took this sentence from test dataset and convert into CoNLL04 dataset format "
      ]
    },
    {
      "cell_type": "code",
      "metadata": {
        "id": "wK-WmOHL78Xm"
      },
      "source": [
        "test_sentence=[\n",
        "           {\n",
        "               \"id\": 5124,\n",
        "               'text':'In 1969 , James Earl Ray pleaded guilty in Memphils, Tenn. , to the assassinations of civil rights leader Martin Luther King Jr.'\n",
        "           }\n",
        "]"
      ],
      "execution_count": null,
      "outputs": []
    },
    {
      "cell_type": "code",
      "metadata": {
        "id": "vUieMjLsM6Y1"
      },
      "source": [
        "import sys\n",
        "sys.path.append(\"/content/drive/MyDrive/multihead_joint_entity_relation_extraction_model\")\n",
        "import time\n",
        "import utils \n",
        "from build_data import build_data\n",
        "import parsers\n",
        "import os\n",
        "import numpy as np\n",
        "import pandas as pd\n",
        "import csv\n",
        "os.chdir(\"/content/drive/My Drive/multihead_joint_entity_relation_extraction_model/\")\n",
        "testconfig = build_data(\"/content/drive/My Drive/multihead_joint_entity_relation_extraction_model/configs/CoNLL04/bio_config\")\n",
        "RELset = testconfig.dataset_set_relations\n",
        "nerSegmentationTags=testconfig.dataset_set_bio_tags\n",
        "hiden_size = testconfig.hidden_size_n1\n",
        "dataset_set_characters = testconfig.dataset_set_characters\n",
        "test_data = utils.HeadData(testconfig.test_id_docs, np.arange(len(testconfig.test_id_docs)))"
      ],
      "execution_count": null,
      "outputs": []
    },
    {
      "cell_type": "code",
      "metadata": {
        "id": "btMOYDOl_Zj-"
      },
      "source": [
        "# The function accepts test_sentence and convert into an input format(CoNLL04 datset format)\n",
        "def parseinput(sentences):\n",
        "    head_id_col_vector = ['token_id', 'token', \"BIO\", \"relation\", 'head']\n",
        "    data = pd.DataFrame([],columns=head_id_col_vector)\n",
        "    for s in sentences:\n",
        "        sent = s['text'].strip().replace(\"\\t\",\"\")\n",
        "        sent_tokens = sent.split(\" \")\n",
        "        sent_id = s[\"id\"]\n",
        "        data.loc[len(data)] = [\"#doc \"+str(sent_id), None, None, None,None]\n",
        "        i = 0\n",
        "        for t in sent_tokens:\n",
        "            for c in t:\n",
        "                if not c in dataset_set_characters:\n",
        "                    dataset_set_characters.append(c)\n",
        "            data.loc[len(data)] = [i, t, \"O\", \"['N']\",\"[{}]\".format(i)] \n",
        "            i+=1\n",
        "    return data"
      ],
      "execution_count": null,
      "outputs": []
    },
    {
      "cell_type": "code",
      "metadata": {
        "colab": {
          "base_uri": "https://localhost:8080/",
          "height": 363
        },
        "id": "v9Hd7fIkCic0",
        "outputId": "837080ec-2a49-4643-dd78-da816b3bb16b"
      },
      "source": [
        "# convert test_sentence into input format and save to csv as 'sample_sent.csv'\n",
        "input_sent = parseinput(test_sentence)\n",
        "input_sent.to_csv('/content/drive/MyDrive/multihead_joint_entity_relation_extraction_model/test_sentence',sep=\"\\t\",index=False, header=False)\n",
        "input_sent.head(10)"
      ],
      "execution_count": null,
      "outputs": [
        {
          "output_type": "execute_result",
          "data": {
            "text/html": [
              "<div>\n",
              "<style scoped>\n",
              "    .dataframe tbody tr th:only-of-type {\n",
              "        vertical-align: middle;\n",
              "    }\n",
              "\n",
              "    .dataframe tbody tr th {\n",
              "        vertical-align: top;\n",
              "    }\n",
              "\n",
              "    .dataframe thead th {\n",
              "        text-align: right;\n",
              "    }\n",
              "</style>\n",
              "<table border=\"1\" class=\"dataframe\">\n",
              "  <thead>\n",
              "    <tr style=\"text-align: right;\">\n",
              "      <th></th>\n",
              "      <th>token_id</th>\n",
              "      <th>token</th>\n",
              "      <th>BIO</th>\n",
              "      <th>relation</th>\n",
              "      <th>head</th>\n",
              "    </tr>\n",
              "  </thead>\n",
              "  <tbody>\n",
              "    <tr>\n",
              "      <th>0</th>\n",
              "      <td>#doc 5124</td>\n",
              "      <td>None</td>\n",
              "      <td>None</td>\n",
              "      <td>None</td>\n",
              "      <td>None</td>\n",
              "    </tr>\n",
              "    <tr>\n",
              "      <th>1</th>\n",
              "      <td>0</td>\n",
              "      <td>In</td>\n",
              "      <td>O</td>\n",
              "      <td>['N']</td>\n",
              "      <td>[0]</td>\n",
              "    </tr>\n",
              "    <tr>\n",
              "      <th>2</th>\n",
              "      <td>1</td>\n",
              "      <td>1969</td>\n",
              "      <td>O</td>\n",
              "      <td>['N']</td>\n",
              "      <td>[1]</td>\n",
              "    </tr>\n",
              "    <tr>\n",
              "      <th>3</th>\n",
              "      <td>2</td>\n",
              "      <td>,</td>\n",
              "      <td>O</td>\n",
              "      <td>['N']</td>\n",
              "      <td>[2]</td>\n",
              "    </tr>\n",
              "    <tr>\n",
              "      <th>4</th>\n",
              "      <td>3</td>\n",
              "      <td>James</td>\n",
              "      <td>O</td>\n",
              "      <td>['N']</td>\n",
              "      <td>[3]</td>\n",
              "    </tr>\n",
              "    <tr>\n",
              "      <th>5</th>\n",
              "      <td>4</td>\n",
              "      <td>Earl</td>\n",
              "      <td>O</td>\n",
              "      <td>['N']</td>\n",
              "      <td>[4]</td>\n",
              "    </tr>\n",
              "    <tr>\n",
              "      <th>6</th>\n",
              "      <td>5</td>\n",
              "      <td>Ray</td>\n",
              "      <td>O</td>\n",
              "      <td>['N']</td>\n",
              "      <td>[5]</td>\n",
              "    </tr>\n",
              "    <tr>\n",
              "      <th>7</th>\n",
              "      <td>6</td>\n",
              "      <td>pleaded</td>\n",
              "      <td>O</td>\n",
              "      <td>['N']</td>\n",
              "      <td>[6]</td>\n",
              "    </tr>\n",
              "    <tr>\n",
              "      <th>8</th>\n",
              "      <td>7</td>\n",
              "      <td>guilty</td>\n",
              "      <td>O</td>\n",
              "      <td>['N']</td>\n",
              "      <td>[7]</td>\n",
              "    </tr>\n",
              "    <tr>\n",
              "      <th>9</th>\n",
              "      <td>8</td>\n",
              "      <td>in</td>\n",
              "      <td>O</td>\n",
              "      <td>['N']</td>\n",
              "      <td>[8]</td>\n",
              "    </tr>\n",
              "  </tbody>\n",
              "</table>\n",
              "</div>"
            ],
            "text/plain": [
              "    token_id    token   BIO relation  head\n",
              "0  #doc 5124     None  None     None  None\n",
              "1          0       In     O    ['N']   [0]\n",
              "2          1     1969     O    ['N']   [1]\n",
              "3          2        ,     O    ['N']   [2]\n",
              "4          3    James     O    ['N']   [3]\n",
              "5          4     Earl     O    ['N']   [4]\n",
              "6          5      Ray     O    ['N']   [5]\n",
              "7          6  pleaded     O    ['N']   [6]\n",
              "8          7   guilty     O    ['N']   [7]\n",
              "9          8       in     O    ['N']   [8]"
            ]
          },
          "metadata": {
            "tags": []
          },
          "execution_count": 21
        }
      ]
    },
    {
      "cell_type": "code",
      "metadata": {
        "id": "XNbycgF5F4-N"
      },
      "source": [
        "    test_sentence = parsers.readHeadFile('/content/drive/MyDrive/multihead_joint_entity_relation_extraction_model/test_sentence')\n",
        "    # preprocess the dataframe\n",
        "    parsers.preprocess(test_sentence, testconfig.wordindices, dataset_set_characters,\n",
        "        testconfig.dataset_set_bio_tags, testconfig.dataset_set_ec_tags, testconfig.dataset_set_relations)\n",
        "    test_data = utils.HeadData(test_sentence, np.arange(len(test_sentence)))"
      ],
      "execution_count": null,
      "outputs": []
    },
    {
      "cell_type": "markdown",
      "metadata": {
        "id": "t98DhUIBZvA_"
      },
      "source": [
        "#4. Prediction\n",
        "\n",
        "\n",
        "*   Apply the model to a test_sentence"
      ]
    },
    {
      "cell_type": "code",
      "metadata": {
        "id": "uOnPHvFkCoPO",
        "colab": {
          "base_uri": "https://localhost:8080/"
        },
        "outputId": "3f7658d8-20ed-4a8a-8775-005a728c7a0a"
      },
      "source": [
        "nerSegmentationTags"
      ],
      "execution_count": null,
      "outputs": [
        {
          "output_type": "execute_result",
          "data": {
            "text/plain": [
              "['B-Loc',\n",
              " 'B-Org',\n",
              " 'B-Other',\n",
              " 'B-Peop',\n",
              " 'I-Loc',\n",
              " 'I-Org',\n",
              " 'I-Other',\n",
              " 'I-Peop',\n",
              " 'O']"
            ]
          },
          "metadata": {
            "tags": []
          },
          "execution_count": 29
        }
      ]
    },
    {
      "cell_type": "code",
      "metadata": {
        "colab": {
          "base_uri": "https://localhost:8080/"
        },
        "id": "zQv1QIltcZ6i",
        "outputId": "7134c57e-8768-4834-cbfd-29790dd27d50"
      },
      "source": [
        "RELset \n"
      ],
      "execution_count": null,
      "outputs": [
        {
          "output_type": "execute_result",
          "data": {
            "text/plain": [
              "['Kill', 'Live_In', 'Located_In', 'N', 'OrgBased_In', 'Work_For']"
            ]
          },
          "metadata": {
            "tags": []
          },
          "execution_count": 30
        }
      ]
    },
    {
      "cell_type": "code",
      "metadata": {
        "id": "OJH1Mewcv6sZ"
      },
      "source": [
        "# The function accept the model output both NER and REL(relation)\n",
        "\n",
        "#.............. input pred_batchesNER look like......\n",
        "\n",
        "# pred_batchesNER = [[8 8 8 3 7 7 8 8 8 0 4 8 8 8 8 8 8 8 8 3 7 7 7]]  \n",
        "# we can convert pred_batchesNER based on nerSegmentationTags and it become\n",
        "# pred_batchesNER = [['O','O','O','B-Other','I-Peop','I-Peop','O','O','O','B-Loc','I-Loc','O',\n",
        "# 'O','O','O','O','O','O','B-Other','I-Peop','I-Peop','I-Peop']]\n",
        "\n",
        "#--------------- Output ........\n",
        "# NER=[('Peop', 3, 5), ('Peop', 19, 22), ('Loc', 9, 10)]\n",
        "# NER output tells us starting from token 3 upto 5 there is an entity and its entity type is People. \n",
        "# REL=[(5, 'Kill', 22)]\n",
        "# The REL output indicates that there is a relation between entity 5 and entity 22 which has 'Kill' relation type\n",
        "\n",
        "def add_test(pred_batchesNER,pred_batchesREL):\n",
        "\n",
        "        for batch_idx in range(len(pred_batchesREL)):\n",
        "            predRel = pred_batchesREL[batch_idx]\n",
        "            predNER = pred_batchesNER[batch_idx]\n",
        "            ptoken_ids, _, plabel_ids, phead_ids, plabel_names = utils.transformToInitialInput(\n",
        "                predRel, RELset)\n",
        "            tagsNER = utils.getSegmentationDict(nerSegmentationTags)\n",
        "            predRel = getTokenRelations(plabel_names, phead_ids, ptoken_ids)\n",
        "            lab_pred_chunks = set(get_chunks(predNER, tagsNER))\n",
        "            return predRel, list(lab_pred_chunks)\n",
        "\n",
        "def getTokenRelations(label_names, head_ids, token_ids):\n",
        "        relations = []\n",
        "        for labelLIdx in range(len(label_names)):\n",
        "            # print (predLabel)\n",
        "            labelL = label_names[labelLIdx]\n",
        "            headL = head_ids[labelLIdx]\n",
        "            tokenId = token_ids[labelLIdx]\n",
        "            for labelIdx in range(len(labelL)):\n",
        "\n",
        "                label = labelL[labelIdx]\n",
        "                head = headL[labelIdx]\n",
        "                if label != \"N\":\n",
        "                    # print (label)\n",
        "                    relations.append((tokenId, label, head))\n",
        "                    # print (tokenId,label,head)\n",
        "        return relations\n",
        "      \n",
        "def get_chunk_type(tok, idx_to_tag):\n",
        "    # method implemented in https://github.com/guillaumegenthial/sequence_tagging/blob/master/model/data_utils.py\n",
        "    \"\"\"\n",
        "    Args:\n",
        "        tok: id of token, ex 4\n",
        "        idx_to_tag: dictionary {4: \"B-PER\", ...}\n",
        "    Returns:\n",
        "        tuple: \"B\", \"PER\"\n",
        "    \"\"\"\n",
        "    tag_name = idx_to_tag[tok]\n",
        "    tag_class = tag_name.split('-')[0]\n",
        "    tag_type = tag_name.split('-')[-1]\n",
        "    return tag_class, tag_type\n",
        "\n",
        "def get_chunks(seq, tags):\n",
        "    # method implemented in https://github.com/guillaumegenthial/sequence_tagging/blob/master/model/data_utils.py\n",
        "    \"\"\"Given a sequence of tags, group entities and their position\n",
        "    Args:\n",
        "        seq: [4, 4, 0, 0, ...] sequence of labels\n",
        "        tags: dict[\"O\"] = 4\n",
        "    Returns:\n",
        "        list of (chunk_type, chunk_start, chunk_end)\n",
        "    Example:\n",
        "        seq = [4, 5, 0, 3]\n",
        "        tags = {\"B-PER\": 4, \"I-PER\": 5, \"B-LOC\": 3}\n",
        "        result = [(\"PER\", 0, 2), (\"LOC\", 3, 4)]\n",
        "    \"\"\"\n",
        "\n",
        "    default = tags['O']\n",
        "    idx_to_tag = {idx: tag for tag, idx in tags.items()}\n",
        "    chunks = []\n",
        "    chunk_type, chunk_start = None, None\n",
        "    for i, tok in enumerate(seq):\n",
        "        # End of a chunk 1\n",
        "        if tok == default and chunk_type is not None:\n",
        "            # Add a chunk.\n",
        "            chunk = (chunk_type, chunk_start, i-1)\n",
        "            chunks.append(chunk)\n",
        "            chunk_type, chunk_start = None, None\n",
        "\n",
        "        # End of a chunk + start of a chunk!\n",
        "        elif tok != default:\n",
        "            tok_chunk_class, tok_chunk_type = get_chunk_type(tok, idx_to_tag)\n",
        "            if chunk_type is None:\n",
        "                chunk_type, chunk_start = tok_chunk_type, i\n",
        "            elif tok_chunk_type != chunk_type or tok_chunk_class == \"B\":\n",
        "                chunk = (chunk_type, chunk_start, i-1)\n",
        "                chunks.append(chunk)\n",
        "                chunk_type, chunk_start = tok_chunk_type, i\n",
        "        else:\n",
        "            pass\n",
        "\n",
        "    # end condition\n",
        "    if chunk_type is not None:\n",
        "        chunk = (chunk_type, chunk_start, len(seq)-1)\n",
        "        chunks.append(chunk)\n",
        "\n",
        "    return chunks"
      ],
      "execution_count": null,
      "outputs": []
    },
    {
      "cell_type": "code",
      "metadata": {
        "id": "oV73yeMVXzFB"
      },
      "source": [
        "def parseresult(ner, rel, doc_id, tokens):\n",
        "    # ner=[('Peop', 3, 5), ('Peop', 19, 22),('Loc', 9, 10)]\n",
        "    # rel=[(5, 'Kill', 22)]\n",
        "    output = {\"{}\".format(doc_id): []}\n",
        "    entities_dict = {\"entities\":[]}\n",
        "    entities_dict_process = {\"entities\":[]}\n",
        "    for e in ner:\n",
        "        if len(e) > 0:\n",
        "            entity_type = e[0]\n",
        "            entity_start = e[1]\n",
        "            entity_end = e[2]\n",
        "            entity = \" \".join(tokens[entity_start:entity_end+1])\n",
        "            entities_dict_process[\"entities\"].append({\"entity\":entity, \"type\":entity_type, \"start\":entity_start, \"end\":entity_end})\n",
        "            entities_dict[\"entities\"].append({\"entity\":entity, \"entity_type\":entity_type})\n",
        "            print(entity)\n",
        "    relations_dict = {\"relations\":[]}\n",
        "    for r in rel:\n",
        "        if len(r) > 0:\n",
        "            rel_type = r[1]\n",
        "            first_entity_ind = r[0]\n",
        "            second_entity_ind = r[2]\n",
        "            for ent in entities_dict_process[\"entities\"]:\n",
        "                if int(ent[\"end\"]) == int(first_entity_ind):\n",
        "                    first_entity = ent[\"entity\"]\n",
        "                elif int(ent[\"end\"]) == int(second_entity_ind):\n",
        "                    second_entity = ent[\"entity\"]\n",
        "            relations_dict[\"relations\"].append({\"relation_type\":rel_type, \"entities\":[first_entity, second_entity]})\n",
        "            print([first_entity, second_entity])\n",
        "    output[doc_id].append(entities_dict)\n",
        "    output[doc_id].append(relations_dict)\n",
        "\n",
        "    return output"
      ],
      "execution_count": null,
      "outputs": []
    },
    {
      "cell_type": "code",
      "metadata": {
        "id": "omdOGcT7v6wi",
        "colab": {
          "base_uri": "https://localhost:8080/"
        },
        "outputId": "e3b8e0cd-091c-45e1-9025-1e4890327820"
      },
      "source": [
        "# load the trained and saved pb_model as a graph and predict  \n",
        "import tensorflow as tf\n",
        "import pprint\n",
        "export_path = '/content/drive/My Drive/multihead_joint_entity_relation_extraction_model/logs/saved_model/v1/'\n",
        "\n",
        "# We start a session using a temporary fresh Graph\n",
        "with tf.Session(graph=tf.Graph()) as sess:\n",
        "\n",
        "    tf.saved_model.loader.load(sess, ['serve'], export_path)\n",
        "    graph = tf.get_default_graph()\n",
        "    m = {}\n",
        "    m['isTrain'] = graph.get_tensor_by_name(\"Placeholder_1:0\")\n",
        "    m['embeddingIds'] = graph.get_tensor_by_name(\"Placeholder_3:0\")\n",
        "    m['charIds'] = graph.get_tensor_by_name(\"Placeholder:0\")\n",
        "    m['tokensLens'] = graph.get_tensor_by_name(\"Placeholder_2:0\")\n",
        "    m['entity_tags_ids'] = graph.get_tensor_by_name(\"Placeholder_5:0\")\n",
        "    m['scoringMatrixGold'] = graph.get_tensor_by_name(\"Placeholder_6:0\")\n",
        "    m['seqlen'] = graph.get_tensor_by_name(\"Placeholder_10:0\")\n",
        "    m['doc_ids'] = graph.get_tensor_by_name(\"Placeholder_11:0\")\n",
        "    m['tokenIds'] = graph.get_tensor_by_name(\"Placeholder_4:0\")\n",
        "    m['dropout_embedding']=graph.get_tensor_by_name(\"dropout_embedding_keep:0\")\n",
        "    m['dropout_lstm']=graph.get_tensor_by_name(\"dropout_lstm_keep:0\")\n",
        "    m['dropout_lstm_output']=graph.get_tensor_by_name(\"dropout_lstm_output_keep:0\")\n",
        "    m['dropout_fcl_ner']=graph.get_tensor_by_name(\"dropout_fcl_ner_keep:0\")\n",
        "    m['dropout_fcl_rel'] = graph.get_tensor_by_name(\"dropout_fcl_rel_keep:0\")\n",
        "    m['tokens'] = graph.get_tensor_by_name(\"Placeholder_7:0\")\n",
        "    m['BIO'] = graph.get_tensor_by_name(\"Placeholder_8:0\")\n",
        "    m['entity_tags'] = graph.get_tensor_by_name(\"Placeholder_9:0\")\n",
        "    print( m['doc_ids'])\n",
        "    op_rel = graph.get_tensor_by_name(\"loss_computation/Round:0\")\n",
        "    op_ner = graph.get_tensor_by_name(\"loss_computation/cond_2/Merge:0\")\n",
        "\n",
        "    output_result=[]\n",
        "    for x_dev in utils.generator(test_data, m, testconfig, train=False):\n",
        "      pred_rel, pred_ner = sess.run([op_rel, op_ner],feed_dict=x_dev)\n",
        "      rel, ner = add_test(pred_ner, pred_rel)\n",
        "      for i in x_dev.keys():\n",
        "        if \"Placeholder_11\" in str(i):\n",
        "          doc_id = x_dev[i][0]\n",
        "        elif \"Placeholder_7\" in str(i):\n",
        "          tokens = x_dev[i][0]\n",
        "      output_result.append(parseresult(ner, rel,doc_id, tokens))\n",
        "    pprint.pprint(output_result)      \n",
        "        "
      ],
      "execution_count": null,
      "outputs": [
        {
          "output_type": "stream",
          "text": [
            "INFO:tensorflow:Restoring parameters from /content/drive/My Drive/multihead_joint_entity_relation_extraction_model/logs/saved_model/v1/variables/variables\n",
            "Tensor(\"Placeholder_11:0\", shape=(?,), dtype=string)\n",
            "James Earl Ray\n",
            "Martin Luther King Jr.\n",
            "Memphils, Tenn.\n",
            "['James Earl Ray', 'Martin Luther King Jr.']\n",
            "[{'#doc 5124': [{'entities': [{'entity': 'James Earl Ray',\n",
            "                               'entity_type': 'Peop'},\n",
            "                              {'entity': 'Martin Luther King Jr.',\n",
            "                               'entity_type': 'Peop'},\n",
            "                              {'entity': 'Memphils, Tenn.',\n",
            "                               'entity_type': 'Loc'}]},\n",
            "                {'relations': [{'entities': ['James Earl Ray',\n",
            "                                             'Martin Luther King Jr.'],\n",
            "                                'relation_type': 'Kill'}]}]}]\n"
          ],
          "name": "stdout"
        }
      ]
    },
    {
      "cell_type": "markdown",
      "metadata": {
        "id": "MZ-jEcoQkHH9"
      },
      "source": [
        "#Predction Result\n",
        "\n",
        "The model returns a JSON result which identifies:\n",
        "\n",
        "1.    James Earl Ray, Martin Luther King Jr,  'Memphils, Tenn.' as an entity and  'Peop', 'Peop', 'Loc' as an entity type respectively.\n",
        "2.   James Earl Ray and Martin Luther King Jr have a relationship and there relation type is 'Kill'."
      ]
    },
    {
      "cell_type": "code",
      "metadata": {
        "id": "-F3ARTTtxc8B"
      },
      "source": [
        ""
      ],
      "execution_count": null,
      "outputs": []
    }
  ]
}